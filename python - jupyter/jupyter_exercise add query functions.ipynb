{
 "cells": [
  {
   "cell_type": "code",
   "execution_count": 1,
   "id": "ebc5e176-0274-4536-826e-3ab73be382fa",
   "metadata": {},
   "outputs": [
    {
     "name": "stdout",
     "output_type": "stream",
     "text": [
      "Collecting mysql-connector-python\n",
      "  Using cached mysql_connector_python-9.4.0-cp39-cp39-macosx_14_0_x86_64.whl.metadata (7.3 kB)\n",
      "Using cached mysql_connector_python-9.4.0-cp39-cp39-macosx_14_0_x86_64.whl (18.4 MB)\n",
      "Installing collected packages: mysql-connector-python\n",
      "Successfully installed mysql-connector-python-9.4.0\n"
     ]
    }
   ],
   "source": [
    "!pip install mysql-connector-python"
   ]
  },
  {
   "cell_type": "code",
   "execution_count": 2,
   "id": "f65dd76c-84d8-449e-b1ce-bcd24e4c73f8",
   "metadata": {},
   "outputs": [],
   "source": [
    "import mysql.connector as connector"
   ]
  },
  {
   "cell_type": "code",
   "execution_count": 7,
   "id": "88ea560b-94c5-446f-b294-20638cbadf38",
   "metadata": {},
   "outputs": [],
   "source": [
    "connection=connector.connect(user=\"root\",password=\"passs123\",db=\"LittleLemonDB\")"
   ]
  },
  {
   "cell_type": "code",
   "execution_count": 8,
   "id": "52b39ce3-a9a3-4911-8efd-fcfef40582b0",
   "metadata": {},
   "outputs": [],
   "source": [
    "cursor = connection.cursor()"
   ]
  },
  {
   "cell_type": "code",
   "execution_count": 9,
   "id": "2586f375-29be-4e79-a3a2-54257c06cb65",
   "metadata": {},
   "outputs": [],
   "source": [
    "show_tables_query = \"SHOW tables\" \n",
    "cursor.execute(show_tables_query)"
   ]
  },
  {
   "cell_type": "code",
   "execution_count": 10,
   "id": "c0aa1ac1-9919-4056-a605-f9b8d54075e4",
   "metadata": {},
   "outputs": [
    {
     "name": "stdout",
     "output_type": "stream",
     "text": [
      "[('Bookings',), ('Customers',), ('DeliveryStatus',), ('MenuItems',), ('Menus',), ('OrderDetails',), ('Orders',), ('ordersview',), ('Staff',)]\n"
     ]
    }
   ],
   "source": [
    "results = cursor.fetchall()\n",
    "print(results)"
   ]
  },
  {
   "cell_type": "code",
   "execution_count": 11,
   "id": "96648b95-74dd-482e-97c5-ddb1bc658e00",
   "metadata": {},
   "outputs": [],
   "source": [
    "join_tables_query = \"\"\"\n",
    "SELECT \n",
    "    Customers.CustomerName,\n",
    "    Customers.PhoneNumber,\n",
    "    Customers.Email\n",
    "FROM\n",
    "    Customers\n",
    "        INNER JOIN\n",
    "    Orders ON Customers.CustomerID = Orders.CustomerID\n",
    "        INNER JOIN\n",
    "    OrderDetails ON Orders.OrderID = OrderDetails.OrderID\n",
    "WHERE\n",
    "    TotalAmount >= 60;\"\"\"\n",
    "cursor.execute(join_tables_query)"
   ]
  },
  {
   "cell_type": "code",
   "execution_count": 12,
   "id": "90521587-cf09-49c7-b207-e682231b6bec",
   "metadata": {},
   "outputs": [
    {
     "name": "stdout",
     "output_type": "stream",
     "text": [
      "[('Anna Iversen', 1234567890, 'anna@gmail.com'), ('Marcos Romero', 1234567890, 'marcos@gmail.com')]\n"
     ]
    }
   ],
   "source": [
    "results = cursor.fetchall()\n",
    "print(results)"
   ]
  }
 ],
 "metadata": {
  "kernelspec": {
   "display_name": "Python 3 (ipykernel)",
   "language": "python",
   "name": "python3"
  },
  "language_info": {
   "codemirror_mode": {
    "name": "ipython",
    "version": 3
   },
   "file_extension": ".py",
   "mimetype": "text/x-python",
   "name": "python",
   "nbconvert_exporter": "python",
   "pygments_lexer": "ipython3",
   "version": "3.9.6"
  }
 },
 "nbformat": 4,
 "nbformat_minor": 5
}
